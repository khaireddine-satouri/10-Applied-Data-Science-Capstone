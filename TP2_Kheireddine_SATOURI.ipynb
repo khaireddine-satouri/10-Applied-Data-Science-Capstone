{
  "nbformat": 4,
  "nbformat_minor": 0,
  "metadata": {
    "colab": {
      "provenance": [],
      "authorship_tag": "ABX9TyMGdfwQ17JNBQte0xn9YmF6",
      "include_colab_link": true
    },
    "kernelspec": {
      "name": "python3",
      "display_name": "Python 3"
    },
    "language_info": {
      "name": "python"
    }
  },
  "cells": [
    {
      "cell_type": "markdown",
      "metadata": {
        "id": "view-in-github",
        "colab_type": "text"
      },
      "source": [
        "<a href=\"https://colab.research.google.com/github/khaireddine-satouri/10-Applied-Data-Science-Capstone/blob/main/TP2_Kheireddine_SATOURI.ipynb\" target=\"_parent\"><img src=\"https://colab.research.google.com/assets/colab-badge.svg\" alt=\"Open In Colab\"/></a>"
      ]
    },
    {
      "cell_type": "markdown",
      "source": [
        "# Exercice 1"
      ],
      "metadata": {
        "id": "l1LDyv7rO7Wc"
      }
    },
    {
      "cell_type": "markdown",
      "source": [
        "Créer\tun\ttableau\tdepuis\tla\tliste [1.6, 0.5, 7.4, 22.3]\tet\tstocker\tle\tdans la\tvariable\t« vec »"
      ],
      "metadata": {
        "id": "bQfseTK3PQDy"
      }
    },
    {
      "cell_type": "code",
      "source": [
        "import numpy as np"
      ],
      "metadata": {
        "id": "rbmne7p0PO2n"
      },
      "execution_count": 1,
      "outputs": []
    },
    {
      "cell_type": "code",
      "source": [
        "l=[1.6, 0.5, 7.4, 22.3]\n",
        "vec=np.array(l)"
      ],
      "metadata": {
        "id": "5tdV5RdYPPpR"
      },
      "execution_count": 2,
      "outputs": []
    },
    {
      "cell_type": "code",
      "execution_count": 3,
      "metadata": {
        "id": "zY-oqnfJCzYz",
        "colab": {
          "base_uri": "https://localhost:8080/"
        },
        "outputId": "3ede924f-013e-4082-90a3-23bfb83d1d5c"
      },
      "outputs": [
        {
          "output_type": "execute_result",
          "data": {
            "text/plain": [
              "array([ 1.6,  0.5,  7.4, 22.3])"
            ]
          },
          "metadata": {},
          "execution_count": 3
        }
      ],
      "source": [
        "# Afficher\tle\tcontenu\tde\tla\tvariable\t« vec »\n",
        "vec"
      ]
    },
    {
      "cell_type": "code",
      "source": [
        "# Afficher\tle\ttype\tde\tdonnées\tdu\ttableau\t« vec »,\tsa\tforme,\tsa\tdimension\tet\tsa longueur.\n",
        "print(f\"type : {vec.dtype}\")\n",
        "print(f\"forme : {vec.shape}\")\n",
        "print(f\"dimension : {vec.ndim}\")\n",
        "print(f\"dimension : {len(vec)}\")"
      ],
      "metadata": {
        "id": "T1j0DwPwC6Mm",
        "colab": {
          "base_uri": "https://localhost:8080/"
        },
        "outputId": "8c7ba692-9e79-4c77-d608-267651b2c8e8"
      },
      "execution_count": 4,
      "outputs": [
        {
          "output_type": "stream",
          "name": "stdout",
          "text": [
            "type : float64\n",
            "forme : (4,)\n",
            "dimension : 1\n",
            "dimension : 4\n"
          ]
        }
      ]
    },
    {
      "cell_type": "code",
      "source": [
        "# Afficher\tle\ttroisième\télément\tdu\ttableau.\n",
        "vec[3]"
      ],
      "metadata": {
        "id": "S_cC6xQJC-px",
        "colab": {
          "base_uri": "https://localhost:8080/"
        },
        "outputId": "ef4bc6b7-9d8c-46ce-c08d-1e77024db8ae"
      },
      "execution_count": 5,
      "outputs": [
        {
          "output_type": "execute_result",
          "data": {
            "text/plain": [
              "22.3"
            ]
          },
          "metadata": {},
          "execution_count": 5
        }
      ]
    },
    {
      "cell_type": "code",
      "source": [
        "# Modifier\tla\tvaleur\t« 0.5 »\tpar\t« 3.8 ».\n",
        "vec[1]=3.8\n",
        "vec"
      ],
      "metadata": {
        "id": "_ev_Y-NdDD6F",
        "colab": {
          "base_uri": "https://localhost:8080/"
        },
        "outputId": "c28b5468-2af8-40f7-ea8c-407b92565abc"
      },
      "execution_count": 6,
      "outputs": [
        {
          "output_type": "execute_result",
          "data": {
            "text/plain": [
              "array([ 1.6,  3.8,  7.4, 22.3])"
            ]
          },
          "metadata": {},
          "execution_count": 6
        }
      ]
    },
    {
      "cell_type": "code",
      "source": [
        "# Calculer la\ttaille\tde\tla\tmémoire\tdu\ttableau.\n",
        "print(\"La taille de la mémoire du tableau est : \", vec.nbytes)"
      ],
      "metadata": {
        "colab": {
          "base_uri": "https://localhost:8080/"
        },
        "id": "406iW5SQSB0_",
        "outputId": "47b1cec1-0ac4-469e-b13a-020549b639b6"
      },
      "execution_count": 7,
      "outputs": [
        {
          "output_type": "stream",
          "name": "stdout",
          "text": [
            "La taille de la mémoire du tableau est :  32\n"
          ]
        }
      ]
    },
    {
      "cell_type": "code",
      "source": [
        "# Convertir\tle\ttype\tdu\ttableau\tvers\t« int\t»\n",
        "vec=vec.astype(int)\n",
        "vec.dtype"
      ],
      "metadata": {
        "colab": {
          "base_uri": "https://localhost:8080/"
        },
        "id": "GzTSTZxITx8m",
        "outputId": "65af8346-2639-4cd9-aad7-1be84d9d4b66"
      },
      "execution_count": 8,
      "outputs": [
        {
          "output_type": "execute_result",
          "data": {
            "text/plain": [
              "dtype('int64')"
            ]
          },
          "metadata": {},
          "execution_count": 8
        }
      ]
    },
    {
      "cell_type": "code",
      "source": [
        "# Calculer la taille de la mémoire du tableau après la conversion\n",
        "print(\"La taille de la mémoire du tableau après la conversion est : \", vec.nbytes)"
      ],
      "metadata": {
        "colab": {
          "base_uri": "https://localhost:8080/"
        },
        "id": "Qpt2odvSUKt7",
        "outputId": "e12704d7-9298-4edf-ec40-d1acfa8ca1a4"
      },
      "execution_count": 9,
      "outputs": [
        {
          "output_type": "stream",
          "name": "stdout",
          "text": [
            "La taille de la mémoire du tableau après la conversion est :  32\n"
          ]
        }
      ]
    },
    {
      "cell_type": "code",
      "source": [
        "# Sauvegarder le tableau dans un fichier texte\n",
        "np.savetxt(\"vec.txt\", vec)"
      ],
      "metadata": {
        "id": "0DKQEhJlUcsY"
      },
      "execution_count": 10,
      "outputs": []
    },
    {
      "cell_type": "markdown",
      "source": [
        "Créer\tune\tmatrice\t« mat »\tdepuis\tla\tliste\t[[0,\t3,\t6,\t9],\t[5,\t10,\t15,\t20],\t[30,\t40,\t50,\t60]]\n"
      ],
      "metadata": {
        "id": "NYMIz5CvUxS8"
      }
    },
    {
      "cell_type": "code",
      "source": [
        "l2= [[0, 3, 6, 9], [5, 10, 15, 20], [30, 40, 50, 60]]\n",
        "mat=np.array(l2)"
      ],
      "metadata": {
        "id": "2Sc1oazWU69H"
      },
      "execution_count": 11,
      "outputs": []
    },
    {
      "cell_type": "code",
      "source": [
        "# Afficher\tle\tcontenu\tde\tla\tvariable\t« mat »\n",
        "print(mat)"
      ],
      "metadata": {
        "colab": {
          "base_uri": "https://localhost:8080/"
        },
        "id": "HT51zEt5Ujky",
        "outputId": "368b098d-8850-4e23-ce74-83ab04b95efa"
      },
      "execution_count": 12,
      "outputs": [
        {
          "output_type": "stream",
          "name": "stdout",
          "text": [
            "[[ 0  3  6  9]\n",
            " [ 5 10 15 20]\n",
            " [30 40 50 60]]\n"
          ]
        }
      ]
    },
    {
      "cell_type": "code",
      "source": [
        "# Afficher\tle\ttype\tde\tdonnées\tdu\ttableau\t« vec »,\tsa\tforme,\tsa\tdimension\tet\tsa longueur.\n",
        "print(f\"type : {mat.dtype}\")\n",
        "print(f\"forme : {mat.shape}\")\n",
        "print(f\"dimension : {mat.ndim}\")\n",
        "print(f\"longueur : {len(mat)}\")"
      ],
      "metadata": {
        "colab": {
          "base_uri": "https://localhost:8080/"
        },
        "id": "3VETywibVNDx",
        "outputId": "ba3775d6-3ce0-45b1-a308-c3d3f3f17a46"
      },
      "execution_count": 13,
      "outputs": [
        {
          "output_type": "stream",
          "name": "stdout",
          "text": [
            "type : int64\n",
            "forme : (3, 4)\n",
            "dimension : 2\n",
            "longueur : 3\n"
          ]
        }
      ]
    },
    {
      "cell_type": "code",
      "source": [
        "# Pouvez-vous\tobtenir\tla\tdimension\tet\tla longueur à\tpartir\tde\tla\tforme\t?\n",
        "shape=mat.shape\n",
        "# Obtenir la forme du tableau\n",
        "print(\"Forme : \", shape)\n",
        "# Obtenir la dimension du tableau\n",
        "print(\"Dimension : \", len(shape))\n",
        "# Afficher les résultats\n",
        "print(\"Longueur : \", shape[0])"
      ],
      "metadata": {
        "colab": {
          "base_uri": "https://localhost:8080/"
        },
        "id": "wS7j3OIGVIXb",
        "outputId": "5f0ac218-2c9a-439b-8ad7-3a0480ed734c"
      },
      "execution_count": 14,
      "outputs": [
        {
          "output_type": "stream",
          "name": "stdout",
          "text": [
            "Forme :  (3, 4)\n",
            "Dimension :  2\n",
            "Longueur :  3\n"
          ]
        }
      ]
    },
    {
      "cell_type": "code",
      "source": [
        "# Créer\tla\tmatrice\t« mat_1 » extraite\tde\t« mat » telles que\ti\t>=\t1,\tj\t<=2.\t\n",
        "mat_1 = mat[1:, :2]\n",
        "print(mat_1)"
      ],
      "metadata": {
        "colab": {
          "base_uri": "https://localhost:8080/"
        },
        "id": "gW29y5Y0U5cM",
        "outputId": "8e7f294a-b479-43fa-cb21-1fee26996ff6"
      },
      "execution_count": 15,
      "outputs": [
        {
          "output_type": "stream",
          "name": "stdout",
          "text": [
            "[[ 5 10]\n",
            " [30 40]]\n"
          ]
        }
      ]
    },
    {
      "cell_type": "code",
      "source": [
        "# Modifier\tla\tmatrice\t« mat »\tafin\tque\tsa dernière\tligne\tsoit\tdivisée\tpar\t10\tet\tque\tsa\tpremière\tcolonne\tsoit\tmultipliée par\t2.\t\n",
        "# Diviser la dernière ligne de mat par 10\n",
        "mat[-1, :] = mat[-1, :] / 10\n",
        "\n",
        "# Multiplier la première colonne de mat par 2\n",
        "mat[:, 0] = mat[:, 0] * 2\n",
        "\n",
        "# Afficher mat\n",
        "print(mat)"
      ],
      "metadata": {
        "colab": {
          "base_uri": "https://localhost:8080/"
        },
        "id": "xhWaxIn7WYD0",
        "outputId": "af15ccb9-e142-4223-959b-8f5e13088edc"
      },
      "execution_count": 16,
      "outputs": [
        {
          "output_type": "stream",
          "name": "stdout",
          "text": [
            "[[ 0  3  6  9]\n",
            " [10 10 15 20]\n",
            " [ 6  4  5  6]]\n"
          ]
        }
      ]
    },
    {
      "cell_type": "markdown",
      "source": [
        "Créer\tun\ttableau\tmultidimensionnel\t« nd_vec\t»\td’une\tdimension\t>\t2\t\n"
      ],
      "metadata": {
        "id": "geXG4gbdXfpA"
      }
    },
    {
      "cell_type": "code",
      "source": [
        "# Créer nd_vec, un tableau multidimensionnel de 3 dimensions de taille (2, 3, 4)\n",
        "nd_vec = np.random.rand(2, 3, 4)"
      ],
      "metadata": {
        "id": "D1qPs1RRXbhv"
      },
      "execution_count": 17,
      "outputs": []
    },
    {
      "cell_type": "code",
      "source": [
        "# Afficher nd_vec\n",
        "print(nd_vec)"
      ],
      "metadata": {
        "colab": {
          "base_uri": "https://localhost:8080/"
        },
        "id": "fn3TAaLUXteG",
        "outputId": "6b0544f3-85e7-4a92-fb31-4c1d3869ef49"
      },
      "execution_count": 18,
      "outputs": [
        {
          "output_type": "stream",
          "name": "stdout",
          "text": [
            "[[[0.01260229 0.52971239 0.10562555 0.06608079]\n",
            "  [0.33356402 0.35537071 0.27313671 0.40887701]\n",
            "  [0.0113713  0.80730952 0.47454934 0.47840984]]\n",
            "\n",
            " [[0.70757288 0.41423727 0.04519822 0.58977134]\n",
            "  [0.37602461 0.25174387 0.16179851 0.55915161]\n",
            "  [0.66974955 0.59548254 0.68774589 0.31011457]]]\n"
          ]
        }
      ]
    },
    {
      "cell_type": "code",
      "source": [
        "# Afficher le type de données, la forme, la dimension et la longueur de nd_vec\n",
        "print(\"Type de données :\", nd_vec.dtype)\n",
        "print(\"Forme :\", nd_vec.shape)\n",
        "print(\"Dimension :\", nd_vec.ndim)\n",
        "print(\"Longueur :\", len(nd_vec))"
      ],
      "metadata": {
        "colab": {
          "base_uri": "https://localhost:8080/"
        },
        "id": "pLeI4THKXvkZ",
        "outputId": "70621ed5-bcb7-4e2a-8948-30386b3604c3"
      },
      "execution_count": 19,
      "outputs": [
        {
          "output_type": "stream",
          "name": "stdout",
          "text": [
            "Type de données : float64\n",
            "Forme : (2, 3, 4)\n",
            "Dimension : 3\n",
            "Longueur : 2\n"
          ]
        }
      ]
    },
    {
      "cell_type": "code",
      "source": [
        "# La dimension et la longueur peuvent être obtenues à partir de la forme :\n",
        "print(\"Dimension :\", nd_vec.shape[0])\n",
        "print(\"Longueur :\", nd_vec.shape[1])"
      ],
      "metadata": {
        "colab": {
          "base_uri": "https://localhost:8080/"
        },
        "id": "aB1v-9OhXx18",
        "outputId": "5291b85d-2c60-42a3-c997-468f24b52945"
      },
      "execution_count": 20,
      "outputs": [
        {
          "output_type": "stream",
          "name": "stdout",
          "text": [
            "Dimension : 2\n",
            "Longueur : 3\n"
          ]
        }
      ]
    },
    {
      "cell_type": "code",
      "source": [
        "# Afficher un élément de nd_vec\n",
        "print(\"Élément (1, 2, 3) :\", nd_vec[1, 2, 3])\n",
        "print(\"Élément (1, 2, 3) :\", nd_vec[1][2][3]) # pareil"
      ],
      "metadata": {
        "colab": {
          "base_uri": "https://localhost:8080/"
        },
        "id": "r7bDqGVeX2CY",
        "outputId": "dbbffffb-f174-4475-f221-cee674ceeb79"
      },
      "execution_count": 21,
      "outputs": [
        {
          "output_type": "stream",
          "name": "stdout",
          "text": [
            "Élément (1, 2, 3) : 0.31011456816811545\n",
            "Élément (1, 2, 3) : 0.31011456816811545\n"
          ]
        }
      ]
    },
    {
      "cell_type": "markdown",
      "source": [
        "# Exercice 2"
      ],
      "metadata": {
        "id": "o6y9e4CPUhas"
      }
    },
    {
      "cell_type": "code",
      "source": [
        "# Créer un\t tableau\t1D\tvide\tde\t taille\t10\tet\tde\t type\t« int » ;\tobserver les\tvaleurs\tdu tableau.\n",
        "tab_vide=np.empty(10,dtype=int)\n",
        "tab_vide  #Le tableau n’est pas initialisé « valeurs arbitraires »"
      ],
      "metadata": {
        "colab": {
          "base_uri": "https://localhost:8080/"
        },
        "id": "AZJDDrRkYU29",
        "outputId": "451d1bb1-2932-45bd-f30d-6085310397bf"
      },
      "execution_count": 22,
      "outputs": [
        {
          "output_type": "execute_result",
          "data": {
            "text/plain": [
              "array([           42669024,                   0,                   0,\n",
              "                         0,                   0, 3762023226263222581,\n",
              "       7004273009887633709, 3270518448247891556, 7147833163533922865,\n",
              "           139690479334245])"
            ]
          },
          "metadata": {},
          "execution_count": 22
        }
      ]
    },
    {
      "cell_type": "code",
      "source": [
        "# Créer\t un\t tableau\t2D\t vide\t de\t dimension\t (3*3)\t et\t de\t type\t « float » ; observer les valeurs\tdu\ttableau.\n",
        "arr = np.empty((3, 3), dtype=float)\n",
        "print(arr)"
      ],
      "metadata": {
        "colab": {
          "base_uri": "https://localhost:8080/"
        },
        "id": "SYOxvSdEY_Ve",
        "outputId": "0cd42e8c-cbb3-4a01-89f0-5d646edc9379"
      },
      "execution_count": 23,
      "outputs": [
        {
          "output_type": "stream",
          "name": "stdout",
          "text": [
            "[[2.10813463e-316 0.00000000e+000 7.90505033e-323]\n",
            " [2.12765615e-316 0.00000000e+000 0.00000000e+000]\n",
            " [9.88131292e-324 0.00000000e+000 1.18575755e-321]]\n"
          ]
        }
      ]
    },
    {
      "cell_type": "code",
      "source": [
        "# Créer\tun\ttableau\tde\t3\tdimensions\t(3*3*3)\tinitialisé\tavec\tdes\tzéros\t« 0 ».\n",
        "tab_0=np.zeros((3,3,3))\n",
        "tab_0"
      ],
      "metadata": {
        "colab": {
          "base_uri": "https://localhost:8080/"
        },
        "id": "4Ry43Ay8aHP4",
        "outputId": "42ed5e5f-91b7-4978-b2f8-1c891ba3f80d"
      },
      "execution_count": 24,
      "outputs": [
        {
          "output_type": "execute_result",
          "data": {
            "text/plain": [
              "array([[[0., 0., 0.],\n",
              "        [0., 0., 0.],\n",
              "        [0., 0., 0.]],\n",
              "\n",
              "       [[0., 0., 0.],\n",
              "        [0., 0., 0.],\n",
              "        [0., 0., 0.]],\n",
              "\n",
              "       [[0., 0., 0.],\n",
              "        [0., 0., 0.],\n",
              "        [0., 0., 0.]]])"
            ]
          },
          "metadata": {},
          "execution_count": 24
        }
      ]
    },
    {
      "cell_type": "code",
      "source": [
        "# Créer\tune\tmatrice\tde\ttaille\t(5*5) comportant\tdes\tuns\t« 1 ».\n",
        "tab_1=np.ones((5,5))\n",
        "tab_1"
      ],
      "metadata": {
        "colab": {
          "base_uri": "https://localhost:8080/"
        },
        "id": "_HeNZ84CaVlG",
        "outputId": "0657bc9b-2083-434e-fbd4-17522ec6db5a"
      },
      "execution_count": 25,
      "outputs": [
        {
          "output_type": "execute_result",
          "data": {
            "text/plain": [
              "array([[1., 1., 1., 1., 1.],\n",
              "       [1., 1., 1., 1., 1.],\n",
              "       [1., 1., 1., 1., 1.],\n",
              "       [1., 1., 1., 1., 1.],\n",
              "       [1., 1., 1., 1., 1.]])"
            ]
          },
          "metadata": {},
          "execution_count": 25
        }
      ]
    },
    {
      "cell_type": "code",
      "source": [
        "# Créer\tun\ttableau\tde\ttaille\t(10*10)\tinitialisé\tavec\tla\tvaleur\t« np.inf ».\n",
        "tab_inf=np.full((10,10),np.inf)\n",
        "tab_inf"
      ],
      "metadata": {
        "colab": {
          "base_uri": "https://localhost:8080/"
        },
        "id": "mhkDGzQjaWs2",
        "outputId": "4f37bd74-519e-49fe-c056-a9e01d56a76f"
      },
      "execution_count": 26,
      "outputs": [
        {
          "output_type": "execute_result",
          "data": {
            "text/plain": [
              "array([[inf, inf, inf, inf, inf, inf, inf, inf, inf, inf],\n",
              "       [inf, inf, inf, inf, inf, inf, inf, inf, inf, inf],\n",
              "       [inf, inf, inf, inf, inf, inf, inf, inf, inf, inf],\n",
              "       [inf, inf, inf, inf, inf, inf, inf, inf, inf, inf],\n",
              "       [inf, inf, inf, inf, inf, inf, inf, inf, inf, inf],\n",
              "       [inf, inf, inf, inf, inf, inf, inf, inf, inf, inf],\n",
              "       [inf, inf, inf, inf, inf, inf, inf, inf, inf, inf],\n",
              "       [inf, inf, inf, inf, inf, inf, inf, inf, inf, inf],\n",
              "       [inf, inf, inf, inf, inf, inf, inf, inf, inf, inf],\n",
              "       [inf, inf, inf, inf, inf, inf, inf, inf, inf, inf]])"
            ]
          },
          "metadata": {},
          "execution_count": 26
        }
      ]
    },
    {
      "cell_type": "code",
      "source": [
        "# Créer\tune\tmatrice\td’identité\tde\ttaille\t(4*4)\n",
        "np_id=np.identity(4)\n",
        "np_id"
      ],
      "metadata": {
        "colab": {
          "base_uri": "https://localhost:8080/"
        },
        "id": "XErCnDn0a6Vm",
        "outputId": "0b568dc4-4104-44da-a4bb-b085a5b4a9f3"
      },
      "execution_count": 27,
      "outputs": [
        {
          "output_type": "execute_result",
          "data": {
            "text/plain": [
              "array([[1., 0., 0., 0.],\n",
              "       [0., 1., 0., 0.],\n",
              "       [0., 0., 1., 0.],\n",
              "       [0., 0., 0., 1.]])"
            ]
          },
          "metadata": {},
          "execution_count": 27
        }
      ]
    },
    {
      "cell_type": "code",
      "source": [
        "# Créer\tune\tmatrice dont\tla\tdiagonale\test\tégale\tà\t[2,\t3,\t4,\t5]\tet\tdes\t0\tailleurs.\n",
        "diag=[2,\t3,\t4,\t5]\n",
        "tab_diag=np.diag(diag)\n",
        "tab_diag"
      ],
      "metadata": {
        "colab": {
          "base_uri": "https://localhost:8080/"
        },
        "id": "GLU8VcKGbInN",
        "outputId": "91c3cd0c-3714-4cc7-df03-45b2f6e57d68"
      },
      "execution_count": 28,
      "outputs": [
        {
          "output_type": "execute_result",
          "data": {
            "text/plain": [
              "array([[2, 0, 0, 0],\n",
              "       [0, 3, 0, 0],\n",
              "       [0, 0, 4, 0],\n",
              "       [0, 0, 0, 5]])"
            ]
          },
          "metadata": {},
          "execution_count": 28
        }
      ]
    },
    {
      "cell_type": "markdown",
      "source": [
        "# Exercice\t3 "
      ],
      "metadata": {
        "id": "fToBjxLtbwKe"
      }
    },
    {
      "cell_type": "code",
      "source": [
        "# Créer\tun\ttableau\tcomportant\tla\tsérie\td’entiers\tde\t5\tà\t25 :\t[5,\t6,\t7,\t...\t,\t23,24,25]\n",
        "serie1=np.linspace(5,25,21,dtype=int)\n",
        "serie1"
      ],
      "metadata": {
        "colab": {
          "base_uri": "https://localhost:8080/"
        },
        "id": "19-t_p9ua2EI",
        "outputId": "e999c893-88a9-4d7e-f7a8-478a23b4f58d"
      },
      "execution_count": 29,
      "outputs": [
        {
          "output_type": "execute_result",
          "data": {
            "text/plain": [
              "array([ 5,  6,  7,  8,  9, 10, 11, 12, 13, 14, 15, 16, 17, 18, 19, 20, 21,\n",
              "       22, 23, 24, 25])"
            ]
          },
          "metadata": {},
          "execution_count": 29
        }
      ]
    },
    {
      "cell_type": "code",
      "source": [
        "# Créer\tun\ttableau\tcontenant\ttous\tles\tentiers\tpairs\tentre\t100\tet\t150\tinclus.\n",
        "serie2 = np.arange(100, 151, 2)\n",
        "serie2"
      ],
      "metadata": {
        "colab": {
          "base_uri": "https://localhost:8080/"
        },
        "id": "g8ToyfqPcdtJ",
        "outputId": "f51762c5-aeeb-42e3-d5fb-4aec6ab5f896"
      },
      "execution_count": 30,
      "outputs": [
        {
          "output_type": "execute_result",
          "data": {
            "text/plain": [
              "array([100, 102, 104, 106, 108, 110, 112, 114, 116, 118, 120, 122, 124,\n",
              "       126, 128, 130, 132, 134, 136, 138, 140, 142, 144, 146, 148, 150])"
            ]
          },
          "metadata": {},
          "execution_count": 30
        }
      ]
    },
    {
      "cell_type": "code",
      "source": [
        "# Créer\tun\ttableau\tqui\tcomporte\tles\tdates\tdu\tmois\tde\tFévrier\t2019,\tce\ttableau\test\tde type\t« datetime64[D] »\n",
        "start_date = np.datetime64('2019-02-01')\n",
        "end_date = np.datetime64('2019-03-01')\n",
        "dates = np.arange(start_date, end_date, dtype='datetime64[D]')\n",
        "dates"
      ],
      "metadata": {
        "colab": {
          "base_uri": "https://localhost:8080/"
        },
        "id": "olQMzXuBeoDE",
        "outputId": "71b25f63-c21b-46f6-8a53-dcbadde19843"
      },
      "execution_count": 31,
      "outputs": [
        {
          "output_type": "execute_result",
          "data": {
            "text/plain": [
              "array(['2019-02-01', '2019-02-02', '2019-02-03', '2019-02-04',\n",
              "       '2019-02-05', '2019-02-06', '2019-02-07', '2019-02-08',\n",
              "       '2019-02-09', '2019-02-10', '2019-02-11', '2019-02-12',\n",
              "       '2019-02-13', '2019-02-14', '2019-02-15', '2019-02-16',\n",
              "       '2019-02-17', '2019-02-18', '2019-02-19', '2019-02-20',\n",
              "       '2019-02-21', '2019-02-22', '2019-02-23', '2019-02-24',\n",
              "       '2019-02-25', '2019-02-26', '2019-02-27', '2019-02-28'],\n",
              "      dtype='datetime64[D]')"
            ]
          },
          "metadata": {},
          "execution_count": 31
        }
      ]
    },
    {
      "cell_type": "code",
      "source": [
        "# Créer\tun\ttableau\tde\tdix\téléments\téquidistants\tentre\t2\tet\t5\tinclus.\n",
        "arr=np.linspace(2,5,10)\n",
        "arr"
      ],
      "metadata": {
        "colab": {
          "base_uri": "https://localhost:8080/"
        },
        "id": "02yJ2RTJgFiR",
        "outputId": "a01e78c4-2c51-4712-92d9-9233c130fc37"
      },
      "execution_count": 32,
      "outputs": [
        {
          "output_type": "execute_result",
          "data": {
            "text/plain": [
              "array([2.        , 2.33333333, 2.66666667, 3.        , 3.33333333,\n",
              "       3.66666667, 4.        , 4.33333333, 4.66666667, 5.        ])"
            ]
          },
          "metadata": {},
          "execution_count": 32
        }
      ]
    },
    {
      "cell_type": "code",
      "source": [
        "# Soit\tla\tfonction\ty\t=\tf(x)=\t(ex – e-x)/(ex + e-x).\tCréer\tdes\ttableaux\tx,\ty\tqui\tcontiennent\trespectivement\t50\tvaleurs\tréparties\tuniformément\tsur\t[-5,\t5]\tet\tl’évaluation\tde\tla\tfonction\tsur\tces\tvaleurs\n",
        "def f(x):\n",
        "  return (np.exp(x)-np.exp(-x))/(np.exp(x)+np.exp(-x))\n",
        "x=np.linspace(-5,5,50)\n",
        "f(x)"
      ],
      "metadata": {
        "colab": {
          "base_uri": "https://localhost:8080/"
        },
        "id": "pusmhnhzg39V",
        "outputId": "29e5461f-02b6-4f73-e554-9d40f57c41b2"
      },
      "execution_count": 33,
      "outputs": [
        {
          "output_type": "execute_result",
          "data": {
            "text/plain": [
              "array([-0.9999092 , -0.99986344, -0.99979462, -0.99969111, -0.99953545,\n",
              "       -0.99930137, -0.99894941, -0.99842027, -0.99762495, -0.99642993,\n",
              "       -0.99463525, -0.99194203, -0.98790496, -0.9818637 , -0.97284617,\n",
              "       -0.9594368 , -0.93960819, -0.91052931, -0.86839883, -0.80841907,\n",
              "       -0.72512414, -0.61335726, -0.47010419, -0.29690545, -0.10168812,\n",
              "        0.10168812,  0.29690545,  0.47010419,  0.61335726,  0.72512414,\n",
              "        0.80841907,  0.86839883,  0.91052931,  0.93960819,  0.9594368 ,\n",
              "        0.97284617,  0.9818637 ,  0.98790496,  0.99194203,  0.99463525,\n",
              "        0.99642993,  0.99762495,  0.99842027,  0.99894941,  0.99930137,\n",
              "        0.99953545,  0.99969111,  0.99979462,  0.99986344,  0.9999092 ])"
            ]
          },
          "metadata": {},
          "execution_count": 33
        }
      ]
    },
    {
      "cell_type": "code",
      "source": [
        "# Écrire un\tprogramme\tNumPy\tqui\tpermet\tde\tgénérer\tun\tnombre\taléatoire\tentre\t0\tet\t1\n",
        "gen=np.random.rand()\n",
        "gen"
      ],
      "metadata": {
        "colab": {
          "base_uri": "https://localhost:8080/"
        },
        "id": "QfI5-ThXiT64",
        "outputId": "4de81c60-eafc-4c98-ad16-b5692237e509"
      },
      "execution_count": 34,
      "outputs": [
        {
          "output_type": "execute_result",
          "data": {
            "text/plain": [
              "0.993551172055831"
            ]
          },
          "metadata": {},
          "execution_count": 34
        }
      ]
    },
    {
      "cell_type": "code",
      "source": [
        "# Créer\tun\ttableau\tde\tla\tdimension\tet\tde\tla\ttaille\tde\tvotre\tchoix\tcontenant\tdes\tvaleurs entre\t34\tet\t76.\n",
        "tab = np.random.randint(34, 77, size=(3, 4))\n",
        "tab"
      ],
      "metadata": {
        "colab": {
          "base_uri": "https://localhost:8080/"
        },
        "id": "XRMa7Jm6jGWN",
        "outputId": "a90d5384-ef2a-48ce-ea95-16b0d8ba587d"
      },
      "execution_count": 35,
      "outputs": [
        {
          "output_type": "execute_result",
          "data": {
            "text/plain": [
              "array([[59, 48, 34, 45],\n",
              "       [66, 52, 69, 76],\n",
              "       [58, 52, 45, 48]])"
            ]
          },
          "metadata": {},
          "execution_count": 35
        }
      ]
    },
    {
      "cell_type": "code",
      "source": [
        "# Faites\t un\t tableau\t de\t forme (3,\t 5)\t avec\t des\t nombres\t aléatoires\t à\t partir\t d'une distribution\tnormale\tstandard\t(une\tdistribution\tnormale\tavec\tune\tmoyenne\t0\tet une\tvariance\t1).\n",
        "dis_norm=np.random.normal(size=(3,5))\n",
        "dis_norm"
      ],
      "metadata": {
        "colab": {
          "base_uri": "https://localhost:8080/"
        },
        "id": "-LsTk-zJlkeO",
        "outputId": "c6ca5c76-55ed-4039-f026-c6e49f69f3bd"
      },
      "execution_count": 36,
      "outputs": [
        {
          "output_type": "execute_result",
          "data": {
            "text/plain": [
              "array([[ 0.65453686,  0.79029538, -0.00841558, -1.13440501, -0.19340429],\n",
              "       [ 0.7759224 , -0.6549044 , -1.3175287 , -1.70901314,  1.97067914],\n",
              "       [ 1.44947541,  0.15226679, -0.87524691,  0.52832992,  0.7273952 ]])"
            ]
          },
          "metadata": {},
          "execution_count": 36
        }
      ]
    },
    {
      "cell_type": "code",
      "source": [
        "# Créer\tune\tmatrice (10x5)\tcomportant\tdes\tentiers\taléatoires\tentre\t0\tet\t100.\n",
        "# Standardiser cette\t matrice\t telle\t que\t chaque\t colonne\t aura une\t moyenne\tnulle\tet\tun\técart\ttype\tégal\tà\t1.\t\n",
        "mat = np.random.randint(0, 101, size=(10, 5))\n",
        "# Calcul de la moyenne et de l'écart type pour chaque colonne\n",
        "mean = np.mean(mat, axis=0)\n",
        "std = np.std(mat, axis=0)\n",
        "\n",
        "# Standardisation de la matrice\n",
        "mat_std = (mat - mean) / std\n",
        "mat_std"
      ],
      "metadata": {
        "colab": {
          "base_uri": "https://localhost:8080/"
        },
        "id": "8McKEQhDllDU",
        "outputId": "528e170c-86ec-4034-b98c-2b6a8cdfcdcd"
      },
      "execution_count": 37,
      "outputs": [
        {
          "output_type": "execute_result",
          "data": {
            "text/plain": [
              "array([[-0.28619139, -0.19474367,  0.18095068, -0.84161151,  1.19837006],\n",
              "       [ 1.19300005,  0.40141042, -1.22644349, -0.30955826,  1.11153165],\n",
              "       [ 1.4180944 ,  0.8385901 , -0.5830633 ,  1.04475912, -1.14626701],\n",
              "       [-0.60775474,  0.75910288,  2.23172504,  1.14149607,  0.32998596],\n",
              "       [-1.50813214, -1.70500071,  0.02010563, -0.74487456,  1.15495085],\n",
              "       [ 1.00006204,  1.43474419,  0.54285204,  0.17412652, -0.88575178],\n",
              "       [-0.80069276, -1.26782104,  0.90475339, -2.05082346,  1.02469324],\n",
              "       [-1.02578711, -0.91012859, -0.50264077,  0.70617977, -1.0160094 ],\n",
              "       [-0.38266039,  0.99756452, -0.2613732 ,  1.18986455, -0.62523655],\n",
              "       [ 1.00006204, -0.3537181 , -1.30686601, -0.30955826, -1.14626701]])"
            ]
          },
          "metadata": {},
          "execution_count": 37
        }
      ]
    },
    {
      "cell_type": "markdown",
      "source": [
        "# Exercice 4"
      ],
      "metadata": {
        "id": "7tOIVEoFoMg7"
      }
    },
    {
      "cell_type": "markdown",
      "source": [
        "\n",
        "\n",
        "```\n",
        "# Ce texte est au format code\n",
        "```\n",
        "\n",
        "Créer\tune\tmatrice\taléatoire\t10x10.\n"
      ],
      "metadata": {
        "id": "Y94T6AjuoR_Q"
      }
    },
    {
      "cell_type": "code",
      "source": [
        "mat= np.random.randn(10, 10)\n",
        "mat"
      ],
      "metadata": {
        "colab": {
          "base_uri": "https://localhost:8080/"
        },
        "id": "YN5wVEC7oTRj",
        "outputId": "5c3cf1b9-1490-4fd1-c14f-173540886812"
      },
      "execution_count": 38,
      "outputs": [
        {
          "output_type": "execute_result",
          "data": {
            "text/plain": [
              "array([[ 0.84742893,  1.38894149,  0.7049113 , -0.527861  , -0.14360296,\n",
              "        -1.91099106, -0.21476562, -0.58148615,  0.13019855, -0.42313761],\n",
              "       [ 0.03786857,  0.81084638, -0.552023  ,  0.41311868,  0.270342  ,\n",
              "         0.24913345, -1.21213596,  0.51006667,  0.26580786, -1.34623193],\n",
              "       [-1.79248922,  0.02332697,  0.18537084,  0.31006193, -0.55101885,\n",
              "         0.2049711 , -0.15783597,  1.87558327,  1.70067076,  1.1317642 ],\n",
              "       [ 0.73223047, -0.15583288,  3.38686504, -0.53136328,  0.27790884,\n",
              "        -2.09694815, -1.20449048, -0.51564868, -0.14975646, -1.51295448],\n",
              "       [-2.30428309,  0.0402952 , -0.22090643, -0.46121164,  1.17272871,\n",
              "        -1.18390486, -0.85311648,  1.71017155,  0.84916654,  1.60897626],\n",
              "       [-0.90849465,  0.12959332, -0.33647811, -0.96612244,  1.32317238,\n",
              "         0.15316132,  0.20782709, -0.02687101,  0.95409362,  0.66721771],\n",
              "       [-0.430066  ,  0.73135433,  0.10589446, -1.36717594, -1.30051942,\n",
              "         1.76578152,  0.06125775,  0.96420773,  0.34397704, -0.38545591],\n",
              "       [ 0.28604981,  0.61394973,  0.15958445,  0.55726163,  0.56176738,\n",
              "         0.56583522,  0.44500668, -0.47337916, -2.12112356, -0.12540232],\n",
              "       [-0.74254652,  1.47067655, -1.73136921, -0.66574653, -0.00423919,\n",
              "        -0.48044566,  0.87569944, -0.04540722, -0.70580084, -0.81910961],\n",
              "       [-1.2542272 , -0.56511914,  0.81989902, -0.06024299, -0.7669811 ,\n",
              "         1.39482395,  1.51482108,  0.29204096,  0.60155352,  0.54813004]])"
            ]
          },
          "metadata": {},
          "execution_count": 38
        }
      ]
    },
    {
      "cell_type": "code",
      "source": [
        "# Sélectionner\tl'élément\tdans\tla\tpremière\tligne\tet\tla\tpremière\tcolonne.\n",
        "mat[0,0]"
      ],
      "metadata": {
        "colab": {
          "base_uri": "https://localhost:8080/"
        },
        "id": "7i7gYUGMoOqe",
        "outputId": "79f74d15-9049-4864-d77c-fb2e16eb46b3"
      },
      "execution_count": 39,
      "outputs": [
        {
          "output_type": "execute_result",
          "data": {
            "text/plain": [
              "0.8474289295951855"
            ]
          },
          "metadata": {},
          "execution_count": 39
        }
      ]
    },
    {
      "cell_type": "code",
      "source": [
        "# Mettre l'élément\tde\tla\tdernière\tligne\tet\tde\tla\tdernière\tcolonne\tà\t-1.\n",
        "mat[-1,-1]=-1"
      ],
      "metadata": {
        "id": "Uahsde52llS5"
      },
      "execution_count": 40,
      "outputs": []
    },
    {
      "cell_type": "code",
      "source": [
        "# Sélectionner les\téléments\tde\tla\tdeuxième\tligne\n",
        "mat[1,:]"
      ],
      "metadata": {
        "colab": {
          "base_uri": "https://localhost:8080/"
        },
        "id": "egJOFgN0qtd9",
        "outputId": "f91de91e-0863-4dc0-ddcb-bf5e66923362"
      },
      "execution_count": 41,
      "outputs": [
        {
          "output_type": "execute_result",
          "data": {
            "text/plain": [
              "array([ 0.03786857,  0.81084638, -0.552023  ,  0.41311868,  0.270342  ,\n",
              "        0.24913345, -1.21213596,  0.51006667,  0.26580786, -1.34623193])"
            ]
          },
          "metadata": {},
          "execution_count": 41
        }
      ]
    },
    {
      "cell_type": "code",
      "source": [
        "# Sélectionner\tles\téléments\tde la\ttroisième\tcolonne\n",
        "mat[:,2]"
      ],
      "metadata": {
        "colab": {
          "base_uri": "https://localhost:8080/"
        },
        "id": "HYnc3r0Kq2li",
        "outputId": "9ee20ee7-c937-4df1-a4ce-67b2be4754c1"
      },
      "execution_count": 42,
      "outputs": [
        {
          "output_type": "execute_result",
          "data": {
            "text/plain": [
              "array([ 0.7049113 , -0.552023  ,  0.18537084,  3.38686504, -0.22090643,\n",
              "       -0.33647811,  0.10589446,  0.15958445, -1.73136921,  0.81989902])"
            ]
          },
          "metadata": {},
          "execution_count": 42
        }
      ]
    },
    {
      "cell_type": "code",
      "source": [
        "# Remplacer tous\tles\téléments\tde\tla\tdeuxième\tligne\tpar\t0.\n",
        "mat[1,:]=0"
      ],
      "metadata": {
        "id": "6fbft5Jnq7p-"
      },
      "execution_count": 43,
      "outputs": []
    },
    {
      "cell_type": "code",
      "source": [
        "# Écrire un\t programme\t NumPy\t pour\t inverser\t un\t tableau\t (le\t premier\t élément devient\tle\tdernier).\n",
        "arr = np.array([1, 2, 3, 4, 5])\n",
        "\n",
        "# Inverser le tableau\n",
        "reversed_arr = arr[::-1]\n",
        "print(\"Original array:\", arr)\n",
        "print(\"Reversed array:\", reversed_arr)"
      ],
      "metadata": {
        "colab": {
          "base_uri": "https://localhost:8080/"
        },
        "id": "nOZrf_xurJQt",
        "outputId": "bad7b3e8-0d7e-49ce-bde1-35cb4134abf0"
      },
      "execution_count": 44,
      "outputs": [
        {
          "output_type": "stream",
          "name": "stdout",
          "text": [
            "Original array: [1 2 3 4 5]\n",
            "Reversed array: [5 4 3 2 1]\n"
          ]
        }
      ]
    },
    {
      "cell_type": "code",
      "source": [
        "# Écrire\tun\tprogramme\tNumPy\tpour\tcréer\tun\ttableau\t2d\tavec\t1\tsur\tla\tbordure\tet\t0\tà\tl'intérieur.\n",
        "# Créer un tableau 2D de 5x5 rempli de 0\n",
        "arr = np.zeros((5, 5))\n",
        "\n",
        "# Utiliser la fonction np.pad pour ajouter des bords de 1\n",
        "arr = np.pad(arr, pad_width=1, mode='constant', constant_values=1)\n",
        "\n",
        "print(arr)"
      ],
      "metadata": {
        "colab": {
          "base_uri": "https://localhost:8080/"
        },
        "id": "bHyR_vOnriOu",
        "outputId": "31a544b6-fbd5-4506-9639-583226aa7c29"
      },
      "execution_count": 45,
      "outputs": [
        {
          "output_type": "stream",
          "name": "stdout",
          "text": [
            "[[1. 1. 1. 1. 1. 1. 1.]\n",
            " [1. 0. 0. 0. 0. 0. 1.]\n",
            " [1. 0. 0. 0. 0. 0. 1.]\n",
            " [1. 0. 0. 0. 0. 0. 1.]\n",
            " [1. 0. 0. 0. 0. 0. 1.]\n",
            " [1. 0. 0. 0. 0. 0. 1.]\n",
            " [1. 1. 1. 1. 1. 1. 1.]]\n"
          ]
        }
      ]
    },
    {
      "cell_type": "code",
      "source": [
        "# Écrire un\tprogramme\tNumPy\tpour\tcréer\tune\tmatrice\t8x8\tet\tremplissez-la\tavec\tun\tmotif\ten\tdamier.\n",
        "# Création de la matrice 8x8 remplie de 0\n",
        "matrix = np.zeros((8, 8), dtype=int)\n",
        "\n",
        "# Remplissage des cases en damier avec des 1\n",
        "matrix[1::2, ::2] = 1\n",
        "matrix[::2, 1::2] = 1\n",
        "\n",
        "# Affichage de la matrice\n",
        "print(matrix)"
      ],
      "metadata": {
        "colab": {
          "base_uri": "https://localhost:8080/"
        },
        "id": "QFLEF_VesR-L",
        "outputId": "77b3a60f-0b65-4e30-9a75-239064000473"
      },
      "execution_count": 46,
      "outputs": [
        {
          "output_type": "stream",
          "name": "stdout",
          "text": [
            "[[0 1 0 1 0 1 0 1]\n",
            " [1 0 1 0 1 0 1 0]\n",
            " [0 1 0 1 0 1 0 1]\n",
            " [1 0 1 0 1 0 1 0]\n",
            " [0 1 0 1 0 1 0 1]\n",
            " [1 0 1 0 1 0 1 0]\n",
            " [0 1 0 1 0 1 0 1]\n",
            " [1 0 1 0 1 0 1 0]]\n"
          ]
        }
      ]
    },
    {
      "cell_type": "markdown",
      "source": [
        "# Exercice 5"
      ],
      "metadata": {
        "id": "koiWxzohvzg-"
      }
    },
    {
      "cell_type": "markdown",
      "source": [
        "Écrire\tun\tprogramme\tNumPy\tdans\tlequel vous\tallez :\n"
      ],
      "metadata": {
        "id": "Kc0zt7rev51w"
      }
    },
    {
      "cell_type": "code",
      "source": [
        "# Définir un tableau de 50 éléments aléatoires entre 0 et 100\n",
        "tableau = np.random.randint(0, 100, 50)"
      ],
      "metadata": {
        "id": "uPc_cwbBv63B"
      },
      "execution_count": 47,
      "outputs": []
    },
    {
      "cell_type": "code",
      "source": [
        "# Calculer\tl’écart\ttype\tdes\tvaleurs\tprésentes\tdans\tce\ttableau.\n",
        "ecart_type = np.std(tableau)\n",
        "ecart_type"
      ],
      "metadata": {
        "colab": {
          "base_uri": "https://localhost:8080/"
        },
        "id": "ASiyVDW0v2pI",
        "outputId": "8b84a6fe-d7fb-4534-fd62-091ce1bd33c2"
      },
      "execution_count": 50,
      "outputs": [
        {
          "output_type": "execute_result",
          "data": {
            "text/plain": [
              "29.090816420306943"
            ]
          },
          "metadata": {},
          "execution_count": 50
        }
      ]
    },
    {
      "cell_type": "code",
      "source": [
        "# Chercher les valeurs et les indices des éléments qui sont supérieurs à la moyenne des valeurs + 1.96 l'écart type\n",
        "moyenne_plus = np.mean(tableau) + 1.96 * ecart_type\n",
        "indices_sup = np.where(tableau > moyenne_plus)[0]\n",
        "valeurs_sup = tableau[indices_sup]\n",
        "# Remplacer toutes ces valeurs par la valeur maximale du tableau\n",
        "tableau[indices_sup] = np.max(tableau)"
      ],
      "metadata": {
        "id": "p_TixUVmCCOj"
      },
      "execution_count": 65,
      "outputs": []
    },
    {
      "cell_type": "code",
      "source": [
        "# Chercher les valeurs et les indices des éléments qui sont inférieurs à la moyenne des valeurs - 1.96 l'écart type\n",
        "moyenne_moins = np.mean(tableau) - 1.96 * ecart_type\n",
        "indices_inf = np.where(tableau < moyenne_moins)[0]\n",
        "valeurs_inf = tableau[indices_inf]\n",
        "# Remplacer toutes ces valeurs par la valeur minimale du tableau\n",
        "tableau[indices_inf] = np.min(tableau)"
      ],
      "metadata": {
        "id": "Iv56UCeeCW5V"
      },
      "execution_count": 66,
      "outputs": []
    },
    {
      "cell_type": "code",
      "source": [
        "# Compter le nombre d'éléments égaux au maximum et le nombre d'éléments égaux au minimum\n",
        "nombre_max = np.count_nonzero(tableau == np.max(tableau))\n",
        "nombre_min = np.count_nonzero(tableau == np.min(tableau))"
      ],
      "metadata": {
        "id": "tpD5dTIHCv1G"
      },
      "execution_count": 67,
      "outputs": []
    },
    {
      "cell_type": "code",
      "source": [
        "# Compter le nombre d'éléments différents de min ou de max\n",
        "nombre_diff = np.count_nonzero((tableau != np.min(tableau)) & (tableau != np.max(tableau)))"
      ],
      "metadata": {
        "id": "UVZA74zfC1jG"
      },
      "execution_count": 68,
      "outputs": []
    },
    {
      "cell_type": "code",
      "source": [
        "# Afficher les résultats\n",
        "print(\"Tableau initial : \", tableau)\n",
        "print(\"L'écart type est : \", ecart_type)\n",
        "print(\"Indices des valeurs supérieures à la moyenne + 1.96*écart type : \", indices_sup)\n",
        "print(\"Valeurs supérieures à la moyenne + 1.96*écart type : \", valeurs_sup)\n",
        "print(\"Indices des valeurs inférieures à la moyenne - 1.96*écart type : \", indices_inf)\n",
        "print(\"Valeurs inférieures à la moyenne - 1.96*écart type : \", valeurs_inf)\n",
        "print(\"Nombre d'éléments égaux au maximum : \", nombre_max)\n",
        "print(\"Nombre d'éléments égaux au minimum : \", nombre_min)\n",
        "print(\"Nombre d'éléments différents de min ou de max : \", nombre_diff)"
      ],
      "metadata": {
        "colab": {
          "base_uri": "https://localhost:8080/"
        },
        "id": "xLD_cVF1C14N",
        "outputId": "e8c015fc-724e-4a31-8547-25aabf855334"
      },
      "execution_count": 69,
      "outputs": [
        {
          "output_type": "stream",
          "name": "stdout",
          "text": [
            "Tableau initial :  [27 97 69  4 28 72 56 91 24 73 17 46 55 34  1 76 82  2 46 72 33 48 11 22\n",
            " 54 26 57 25  7 85 21 90 62 43  8 97 67  5 43 55  0 80 12 47 46 78  6 25\n",
            " 69 87]\n",
            "L'écart type est :  29.090816420306943\n",
            "Indices des valeurs supérieures à la moyenne + 1.96*écart type :  []\n",
            "Valeurs supérieures à la moyenne + 1.96*écart type :  []\n",
            "Indices des valeurs inférieures à la moyenne - 1.96*écart type :  []\n",
            "Valeurs inférieures à la moyenne - 1.96*écart type :  []\n",
            "Nombre d'éléments égaux au maximum :  2\n",
            "Nombre d'éléments égaux au minimum :  1\n",
            "Nombre d'éléments différents de min ou de max :  47\n"
          ]
        }
      ]
    },
    {
      "cell_type": "markdown",
      "source": [
        "# Exercice\t6 "
      ],
      "metadata": {
        "id": "5tt7uDg8DPSn"
      }
    },
    {
      "cell_type": "code",
      "source": [
        "#Écrire\tun\tprogramme\tNumPy\tpour\tcréer\tune\tmatrice\t3x3\tavec\tdes\tvaleurs\tallant de\t2\tà\t10\n",
        "matrice = np.arange(2, 11).reshape(3, 3)\n",
        "print(matrice)"
      ],
      "metadata": {
        "colab": {
          "base_uri": "https://localhost:8080/"
        },
        "id": "f0JzQWchDOmr",
        "outputId": "6730f1eb-0e0c-40b1-dbec-3443cb36c2dd"
      },
      "execution_count": 71,
      "outputs": [
        {
          "output_type": "stream",
          "name": "stdout",
          "text": [
            "[[ 2  3  4]\n",
            " [ 5  6  7]\n",
            " [ 8  9 10]]\n"
          ]
        }
      ]
    },
    {
      "cell_type": "code",
      "source": [
        "matrice = np.arange(1, 16).reshape(3, 5).T\n",
        "print(matrice)"
      ],
      "metadata": {
        "colab": {
          "base_uri": "https://localhost:8080/"
        },
        "id": "_AfZTXGTDN20",
        "outputId": "d738a7a1-94cd-4029-b654-90aafb2d552e"
      },
      "execution_count": 72,
      "outputs": [
        {
          "output_type": "stream",
          "name": "stdout",
          "text": [
            "[[ 1  6 11]\n",
            " [ 2  7 12]\n",
            " [ 3  8 13]\n",
            " [ 4  9 14]\n",
            " [ 5 10 15]]\n"
          ]
        }
      ]
    },
    {
      "cell_type": "code",
      "source": [
        "# Diviser le tableau « s = np.arange(25).reshape(5,5) » afin de séparer chaque colonne à part\n",
        "s = np.arange(25).reshape(5, 5)\n",
        "colonnes = np.hsplit(s, s.shape[1])\n",
        "for colonne in colonnes:\n",
        "    print(colonne)"
      ],
      "metadata": {
        "colab": {
          "base_uri": "https://localhost:8080/"
        },
        "id": "_ppW0Et4C2Am",
        "outputId": "841c7f9a-6dd1-4120-a9de-abe74186e68c"
      },
      "execution_count": 73,
      "outputs": [
        {
          "output_type": "stream",
          "name": "stdout",
          "text": [
            "[[ 0]\n",
            " [ 5]\n",
            " [10]\n",
            " [15]\n",
            " [20]]\n",
            "[[ 1]\n",
            " [ 6]\n",
            " [11]\n",
            " [16]\n",
            " [21]]\n",
            "[[ 2]\n",
            " [ 7]\n",
            " [12]\n",
            " [17]\n",
            " [22]]\n",
            "[[ 3]\n",
            " [ 8]\n",
            " [13]\n",
            " [18]\n",
            " [23]]\n",
            "[[ 4]\n",
            " [ 9]\n",
            " [14]\n",
            " [19]\n",
            " [24]]\n"
          ]
        }
      ]
    },
    {
      "cell_type": "code",
      "source": [
        "#matrice en concaténant 3 tableaux unidimensionnels\n",
        "a = np.array([7, 8, 9])\n",
        "b = np.ones(3)\n",
        "c = np.array([12, 18, 2])\n",
        "matrice = np.vstack((a, b, c))\n",
        "print(matrice)"
      ],
      "metadata": {
        "colab": {
          "base_uri": "https://localhost:8080/"
        },
        "id": "4A8rrc-fDsIy",
        "outputId": "8d6d1218-00b4-4529-e133-9d8965da70cc"
      },
      "execution_count": 74,
      "outputs": [
        {
          "output_type": "stream",
          "name": "stdout",
          "text": [
            "[[ 7.  8.  9.]\n",
            " [ 1.  1.  1.]\n",
            " [12. 18.  2.]]\n"
          ]
        }
      ]
    },
    {
      "cell_type": "markdown",
      "source": [
        "# Exercice\t7"
      ],
      "metadata": {
        "id": "U-MxwSeJD-KM"
      }
    },
    {
      "cell_type": "code",
      "source": [
        "# Trouver les positions des éléments non nuls dans un tableau\n",
        "arr = np.array([0, 1, 0, 2, 3, 0, 4, 0])\n",
        "non_zero_positions = np.nonzero(arr)[0]\n",
        "print(non_zero_positions)"
      ],
      "metadata": {
        "colab": {
          "base_uri": "https://localhost:8080/"
        },
        "id": "ZfMmYYuMD23k",
        "outputId": "c5c3e64f-de10-4e69-a723-49266a5dff63"
      },
      "execution_count": 75,
      "outputs": [
        {
          "output_type": "stream",
          "name": "stdout",
          "text": [
            "[1 3 4 6]\n"
          ]
        }
      ]
    },
    {
      "cell_type": "code",
      "source": [
        "# Tester si aucun des éléments d'un tableau donné n'est nul\n",
        "arr = np.array([1, 2, 3, 4])\n",
        "no_zeros = np.all(arr != 0)\n",
        "print(no_zeros)"
      ],
      "metadata": {
        "colab": {
          "base_uri": "https://localhost:8080/"
        },
        "id": "aSd-XvgMD4DK",
        "outputId": "b8231138-3968-45ac-f6b4-968b51cc7b18"
      },
      "execution_count": 76,
      "outputs": [
        {
          "output_type": "stream",
          "name": "stdout",
          "text": [
            "True\n"
          ]
        }
      ]
    },
    {
      "cell_type": "code",
      "source": [
        "# Ajouter une bordure (remplie de 0) autour d'un tableau existant\n",
        "arr = np.ones((3, 3))\n",
        "padded_arr = np.pad(arr, pad_width=1, mode='constant', constant_values=0)\n",
        "print(padded_arr)"
      ],
      "metadata": {
        "colab": {
          "base_uri": "https://localhost:8080/"
        },
        "id": "A9poPhEWD4Nf",
        "outputId": "b2df5606-13fc-49c4-e3ca-3ad7f2644965"
      },
      "execution_count": 77,
      "outputs": [
        {
          "output_type": "stream",
          "name": "stdout",
          "text": [
            "[[0. 0. 0. 0. 0.]\n",
            " [0. 1. 1. 1. 0.]\n",
            " [0. 1. 1. 1. 0.]\n",
            " [0. 1. 1. 1. 0.]\n",
            " [0. 0. 0. 0. 0.]]\n"
          ]
        }
      ]
    },
    {
      "cell_type": "code",
      "source": [
        "#Créer un tableau à partir d'un tuple ou d'une liste\n",
        "my_tuple = (1, 2, 3, 4)\n",
        "my_list = [5, 6, 7, 8]\n",
        "\n",
        "arr_from_tuple = np.asarray(my_tuple)\n",
        "arr_from_list = np.asarray(my_list)\n",
        "\n",
        "print(arr_from_tuple)\n",
        "print(arr_from_list)"
      ],
      "metadata": {
        "colab": {
          "base_uri": "https://localhost:8080/"
        },
        "id": "giS1KrwJEhpW",
        "outputId": "8aebe02a-8ddf-4598-cf84-de8952b27e42"
      },
      "execution_count": 78,
      "outputs": [
        {
          "output_type": "stream",
          "name": "stdout",
          "text": [
            "[1 2 3 4]\n",
            "[5 6 7 8]\n"
          ]
        }
      ]
    },
    {
      "cell_type": "code",
      "source": [
        "# Ajouter des éléments à la fin d'un tableau\n",
        "arr = np.array([1, 2, 3])\n",
        "arr_with_elements = np.append(arr, [4, 5, 6])\n",
        "print(arr_with_elements)"
      ],
      "metadata": {
        "colab": {
          "base_uri": "https://localhost:8080/"
        },
        "id": "JYyTZiMrEhyo",
        "outputId": "07cee2f8-463f-4363-f2b3-b0a1236e0d1e"
      },
      "execution_count": 79,
      "outputs": [
        {
          "output_type": "stream",
          "name": "stdout",
          "text": [
            "[1 2 3 4 5 6]\n"
          ]
        }
      ]
    },
    {
      "cell_type": "code",
      "source": [
        "# Tester si chaque élément d'un tableau 1-D est également présent dans un second tableau\n",
        "arr1 = np.array([1, 2, 3])\n",
        "arr2 = np.array([2, 3, 4, 5])\n",
        "\n",
        "in_arr1 = np.in1d(arr1, arr2)\n",
        "print(in_arr1)"
      ],
      "metadata": {
        "colab": {
          "base_uri": "https://localhost:8080/"
        },
        "id": "3afIXmMvEh7z",
        "outputId": "2c833da1-46ca-48dd-a8bd-bbb879d53f93"
      },
      "execution_count": 80,
      "outputs": [
        {
          "output_type": "stream",
          "name": "stdout",
          "text": [
            "[False  True  True]\n"
          ]
        }
      ]
    },
    {
      "cell_type": "code",
      "source": [
        "#Trouver des valeurs communes entre deux tableaux\n",
        "arr1 = np.array([1, 2, 3])\n",
        "arr2 = np.array([2, 3, 4, 5])\n",
        "\n",
        "common_values = np.intersect1d(arr1, arr2)\n",
        "print(common_values)"
      ],
      "metadata": {
        "colab": {
          "base_uri": "https://localhost:8080/"
        },
        "id": "AOIhXvN6E1eZ",
        "outputId": "e6d2b934-e457-45b2-96f7-b4c786b80850"
      },
      "execution_count": 81,
      "outputs": [
        {
          "output_type": "stream",
          "name": "stdout",
          "text": [
            "[2 3]\n"
          ]
        }
      ]
    },
    {
      "cell_type": "code",
      "source": [
        "#Construire un tableau en répétant les éléments d'un autre tableau en utilisant\tla\tfonction « np.tile »\n",
        "arr = np.array([1, 2, 3])\n",
        "tiled_arr = np.tile(arr, (2, 3))\n",
        "print(tiled_arr)"
      ],
      "metadata": {
        "colab": {
          "base_uri": "https://localhost:8080/"
        },
        "id": "KPCRR0L2E10E",
        "outputId": "21b2de73-1e74-481f-a564-e6dfec8d7dbf"
      },
      "execution_count": 82,
      "outputs": [
        {
          "output_type": "stream",
          "name": "stdout",
          "text": [
            "[[1 2 3 1 2 3 1 2 3]\n",
            " [1 2 3 1 2 3 1 2 3]]\n"
          ]
        }
      ]
    },
    {
      "cell_type": "code",
      "source": [
        "#Utiliser\tla\tfonction\t« bincount\t»\tpour\tcompter\tle\tnombre\td’occurrences\tde\tchaque\tvaleur\td’un\ttableau\tde\tvaleurs\tpositives.\n",
        "arr = np.array([1, 2, 2, 3, 3, 3])\n",
        "counts = np.bincount(arr)\n",
        "\n",
        "print(counts)"
      ],
      "metadata": {
        "colab": {
          "base_uri": "https://localhost:8080/"
        },
        "id": "5faIOe8LE1_X",
        "outputId": "3f690015-7e19-44ab-d111-76a069b45f7f"
      },
      "execution_count": 83,
      "outputs": [
        {
          "output_type": "stream",
          "name": "stdout",
          "text": [
            "[0 1 2 3]\n"
          ]
        }
      ]
    },
    {
      "cell_type": "markdown",
      "source": [
        "# Exercice 8"
      ],
      "metadata": {
        "id": "eMzFnib1FYQk"
      }
    },
    {
      "cell_type": "code",
      "source": [
        "# Lire le fichier CSV dans un tableau\n",
        "donnees = np.genfromtxt('titanic.csv', delimiter=',', skip_header=1)"
      ],
      "metadata": {
        "id": "ZBCpxV6_FZud"
      },
      "execution_count": 84,
      "outputs": []
    },
    {
      "cell_type": "code",
      "source": [
        "# Afficher le type de la variable donnees\n",
        "print(type(donnees)) "
      ],
      "metadata": {
        "colab": {
          "base_uri": "https://localhost:8080/"
        },
        "id": "y152hrdAFotk",
        "outputId": "22553986-50e1-4f2b-d94d-1a92ff8175f1"
      },
      "execution_count": 85,
      "outputs": [
        {
          "output_type": "stream",
          "name": "stdout",
          "text": [
            "<class 'numpy.ndarray'>\n"
          ]
        }
      ]
    },
    {
      "cell_type": "code",
      "source": [
        "# Afficher la dimension du tableau\n",
        "print(donnees.ndim)  "
      ],
      "metadata": {
        "colab": {
          "base_uri": "https://localhost:8080/"
        },
        "id": "fv_PdDdUFo37",
        "outputId": "20273d9c-b085-4c9d-d75c-7f3eb07b0f24"
      },
      "execution_count": 86,
      "outputs": [
        {
          "output_type": "stream",
          "name": "stdout",
          "text": [
            "2\n"
          ]
        }
      ]
    },
    {
      "cell_type": "code",
      "source": [
        "# Afficher la forme du tableau\n",
        "print(donnees.shape)  "
      ],
      "metadata": {
        "colab": {
          "base_uri": "https://localhost:8080/"
        },
        "id": "2cPFJQ9gFo-e",
        "outputId": "7e941b7a-fb9f-471e-c0d2-faf2899a13d6"
      },
      "execution_count": 87,
      "outputs": [
        {
          "output_type": "stream",
          "name": "stdout",
          "text": [
            "(891, 13)\n"
          ]
        }
      ]
    },
    {
      "cell_type": "code",
      "source": [
        "# Afficher les cinq premières lignes du tableau\n",
        "print(donnees[:5, :])"
      ],
      "metadata": {
        "colab": {
          "base_uri": "https://localhost:8080/"
        },
        "id": "Hu5fYF2MFpEh",
        "outputId": "8a2ec173-00f2-40ea-ebed-925f5463090f"
      },
      "execution_count": 88,
      "outputs": [
        {
          "output_type": "stream",
          "name": "stdout",
          "text": [
            "[[1.00000e+00 0.00000e+00 3.00000e+00         nan         nan         nan\n",
            "  2.20000e+01 1.00000e+00 0.00000e+00         nan 7.25000e+00         nan\n",
            "          nan]\n",
            " [2.00000e+00 1.00000e+00 1.00000e+00         nan         nan         nan\n",
            "  3.80000e+01 1.00000e+00 0.00000e+00         nan 7.12833e+01         nan\n",
            "          nan]\n",
            " [3.00000e+00 1.00000e+00 3.00000e+00         nan         nan         nan\n",
            "  2.60000e+01 0.00000e+00 0.00000e+00         nan 7.92500e+00         nan\n",
            "          nan]\n",
            " [4.00000e+00 1.00000e+00 1.00000e+00         nan         nan         nan\n",
            "  3.50000e+01 1.00000e+00 0.00000e+00 1.13803e+05 5.31000e+01         nan\n",
            "          nan]\n",
            " [5.00000e+00 0.00000e+00 3.00000e+00         nan         nan         nan\n",
            "  3.50000e+01 0.00000e+00 0.00000e+00 3.73450e+05 8.05000e+00         nan\n",
            "          nan]]\n"
          ]
        }
      ]
    },
    {
      "cell_type": "code",
      "source": [
        "# Modifier les données\n",
        "donnees[0, 0] = 999"
      ],
      "metadata": {
        "id": "ij2MLOAPFppm"
      },
      "execution_count": 89,
      "outputs": []
    },
    {
      "cell_type": "code",
      "source": [
        "# Sauvegarder les nouvelles données dans un fichier CSV\n",
        "np.savetxt('titanic_mod.csv', donnees, delimiter=',')"
      ],
      "metadata": {
        "id": "eUL2gIvuG4k_"
      },
      "execution_count": 90,
      "outputs": []
    }
  ]
}