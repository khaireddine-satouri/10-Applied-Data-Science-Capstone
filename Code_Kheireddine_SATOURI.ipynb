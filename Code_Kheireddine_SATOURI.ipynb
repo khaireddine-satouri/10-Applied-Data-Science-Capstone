{
  "nbformat": 4,
  "nbformat_minor": 0,
  "metadata": {
    "colab": {
      "provenance": [],
      "authorship_tag": "ABX9TyNhtwg8Ay2Fry7XnGrKyt1+",
      "include_colab_link": true
    },
    "kernelspec": {
      "name": "python3",
      "display_name": "Python 3"
    },
    "language_info": {
      "name": "python"
    }
  },
  "cells": [
    {
      "cell_type": "markdown",
      "metadata": {
        "id": "view-in-github",
        "colab_type": "text"
      },
      "source": [
        "<a href=\"https://colab.research.google.com/github/khaireddine-satouri/10-Applied-Data-Science-Capstone/blob/main/Code_Kheireddine_SATOURI.ipynb\" target=\"_parent\"><img src=\"https://colab.research.google.com/assets/colab-badge.svg\" alt=\"Open In Colab\"/></a>"
      ]
    },
    {
      "cell_type": "markdown",
      "source": [
        "# Kheireddine SATOURI\n"
      ],
      "metadata": {
        "id": "owl1LAxTczLR"
      }
    },
    {
      "cell_type": "code",
      "source": [
        "def create_table(width, height):\n",
        "    # table vide avec des zéros\n",
        "    table = [[0 for i in range(width)] for i in range(height)]\n",
        "\n",
        "    # remplissage en incrémentant par rapport à la diagonale\n",
        "    value = 0\n",
        "    for i in range(width):\n",
        "        for j in range(height):\n",
        "            table[j][(i + j) % width] = value\n",
        "            value += 1\n",
        "\n",
        "    return table\n",
        "\n",
        "#Affichage\n",
        "def print_table(table):\n",
        "    for row in table:\n",
        "        print('\\t'.join(map(str, row)))\n",
        "\n",
        "# Demander à l'utilisateur de saisir la largeur et la hauteur de la table\n",
        "largeur = int(input(\"Entrez la largeur de la table : \"))\n",
        "hauteur = int(input(\"Entrez la hauteur de la table : \"))\n",
        "\n",
        "# Créer la table\n",
        "table = create_table(largeur, hauteur)\n",
        "\n",
        "# Afficher la table\n",
        "print_table(table)\n"
      ],
      "metadata": {
        "colab": {
          "base_uri": "https://localhost:8080/"
        },
        "id": "bUU-wZBXbGy_",
        "outputId": "e8ec344c-5224-4ba7-eb5b-7230f8596d45"
      },
      "execution_count": null,
      "outputs": [
        {
          "output_type": "stream",
          "name": "stdout",
          "text": [
            "Entrez la largeur de la table : 4\n",
            "Entrez la hauteur de la table : 6\n",
            "0\t6\t12\t18\n",
            "19\t1\t7\t13\n",
            "14\t20\t2\t8\n",
            "9\t15\t21\t3\n",
            "4\t10\t16\t22\n",
            "23\t5\t11\t17\n"
          ]
        }
      ]
    }
  ]
}